{
 "cells": [
  {
   "cell_type": "markdown",
   "metadata": {},
   "source": [
    "# Градиентный бустинг"
   ]
  },
  {
   "cell_type": "code",
   "execution_count": 105,
   "metadata": {},
   "outputs": [],
   "source": [
    "import json\n",
    "import bz2\n",
    "import numpy as np\n",
    "import pandas as pd\n",
    "from sklearn.model_selection import KFold\n",
    "from sklearn.ensemble import GradientBoostingClassifier\n",
    "import time\n",
    "import datetime\n",
    "from sklearn.metrics import roc_auc_score"
   ]
  },
  {
   "cell_type": "code",
   "execution_count": 231,
   "metadata": {},
   "outputs": [],
   "source": [
    "df = pd.read_csv('d2_features.csv', header=0)\n",
    "test_df = pd.read_csv('d2_features_test.csv', header = 0)"
   ]
  },
  {
   "cell_type": "markdown",
   "metadata": {},
   "source": [
    "### Целевая переменная находится в столбце 'radiant_win'"
   ]
  },
  {
   "cell_type": "code",
   "execution_count": 232,
   "metadata": {},
   "outputs": [],
   "source": [
    "y = df.radiant_win\n",
    "df.drop(['duration',\n",
    "        'radiant_win',\n",
    "        'tower_status_radiant',\n",
    "        'tower_status_dire',\n",
    "        'barracks_status_radiant',\n",
    "        'barracks_status_dire',\n",
    "        'match_id'], axis = 1, inplace = True)\n",
    "test_df.drop('match_id',axis = 1, inplace = True)"
   ]
  },
  {
   "cell_type": "code",
   "execution_count": 108,
   "metadata": {},
   "outputs": [
    {
     "name": "stdout",
     "output_type": "stream",
     "text": [
      "<class 'pandas.core.frame.DataFrame'>\n",
      "RangeIndex: 97230 entries, 0 to 97229\n",
      "Columns: 102 entries, start_time to dire_first_ward_time\n",
      "dtypes: float64(12), int64(90)\n",
      "memory usage: 75.7 MB\n"
     ]
    }
   ],
   "source": [
    "columns = df.count()\n",
    "df.info()"
   ]
  },
  {
   "cell_type": "code",
   "execution_count": 109,
   "metadata": {},
   "outputs": [
    {
     "name": "stdout",
     "output_type": "stream",
     "text": [
      "(97230, 'start_time') (97230, 'lobby_type') (97230, 'r1_hero') (97230, 'r1_level') (97230, 'r1_xp') (97230, 'r1_gold') (97230, 'r1_lh') (97230, 'r1_kills') (97230, 'r1_deaths') (97230, 'r1_items') (97230, 'r2_hero') (97230, 'r2_level') (97230, 'r2_xp') (97230, 'r2_gold') (97230, 'r2_lh') (97230, 'r2_kills') (97230, 'r2_deaths') (97230, 'r2_items') (97230, 'r3_hero') (97230, 'r3_level') (97230, 'r3_xp') (97230, 'r3_gold') (97230, 'r3_lh') (97230, 'r3_kills') (97230, 'r3_deaths') (97230, 'r3_items') (97230, 'r4_hero') (97230, 'r4_level') (97230, 'r4_xp') (97230, 'r4_gold') (97230, 'r4_lh') (97230, 'r4_kills') (97230, 'r4_deaths') (97230, 'r4_items') (97230, 'r5_hero') (97230, 'r5_level') (97230, 'r5_xp') (97230, 'r5_gold') (97230, 'r5_lh') (97230, 'r5_kills') (97230, 'r5_deaths') (97230, 'r5_items') (97230, 'd1_hero') (97230, 'd1_level') (97230, 'd1_xp') (97230, 'd1_gold') (97230, 'd1_lh') (97230, 'd1_kills') (97230, 'd1_deaths') (97230, 'd1_items') (97230, 'd2_hero') (97230, 'd2_level') (97230, 'd2_xp') (97230, 'd2_gold') (97230, 'd2_lh') (97230, 'd2_kills') (97230, 'd2_deaths') (97230, 'd2_items') (97230, 'd3_hero') (97230, 'd3_level') (97230, 'd3_xp') (97230, 'd3_gold') (97230, 'd3_lh') (97230, 'd3_kills') (97230, 'd3_deaths') (97230, 'd3_items') (97230, 'd4_hero') (97230, 'd4_level') (97230, 'd4_xp') (97230, 'd4_gold') (97230, 'd4_lh') (97230, 'd4_kills') (97230, 'd4_deaths') (97230, 'd4_items') (97230, 'd5_hero') (97230, 'd5_level') (97230, 'd5_xp') (97230, 'd5_gold') (97230, 'd5_lh') (97230, 'd5_kills') (97230, 'd5_deaths') (97230, 'd5_items') (77677, 'first_blood_time') (77677, 'first_blood_team') (77677, 'first_blood_player1') (53243, 'first_blood_player2') (81539, 'radiant_bottle_time') (96538, 'radiant_courier_time') (69751, 'radiant_flying_courier_time') (97230, 'radiant_tpscroll_count') (97230, 'radiant_boots_count') (97230, 'radiant_ward_observer_count') (97230, 'radiant_ward_sentry_count') (95394, 'radiant_first_ward_time') (81087, 'dire_bottle_time') (96554, 'dire_courier_time') (71132, 'dire_flying_courier_time') (97230, 'dire_tpscroll_count') (97230, 'dire_boots_count') (97230, 'dire_ward_observer_count') (97230, 'dire_ward_sentry_count') (95404, 'dire_first_ward_time')\n"
     ]
    }
   ],
   "source": [
    "# найдем названия столбцов с пропусками\n",
    "print(*zip(columns, df.columns))"
   ]
  },
  {
   "cell_type": "markdown",
   "metadata": {},
   "source": [
    "### Мы видим пропуски в некоторых полях таблицы (first_blood_player1, first_blood_player2, first_blood_time' и тд.)\n",
    "Это свазано с некоторыми моментами: <br>\n",
    "1) Первая кровь была пролита после 5 минуты.<br>\n",
    "2) Большинство первых кровопролитий было совершено с помощью еще одного героя-союзника (поля 'first blood_player_2')"
   ]
  },
  {
   "cell_type": "code",
   "execution_count": 233,
   "metadata": {},
   "outputs": [],
   "source": [
    "df.fillna(0, inplace = True)"
   ]
  },
  {
   "cell_type": "code",
   "execution_count": 111,
   "metadata": {},
   "outputs": [
    {
     "data": {
      "text/plain": [
       "RangeIndex(start=0, stop=97230, step=1)"
      ]
     },
     "execution_count": 111,
     "metadata": {},
     "output_type": "execute_result"
    }
   ],
   "source": [
    "y.index"
   ]
  },
  {
   "cell_type": "code",
   "execution_count": 112,
   "metadata": {},
   "outputs": [],
   "source": [
    "kf = KFold(n_splits = 5, shuffle = True, random_state = 50)"
   ]
  },
  {
   "cell_type": "markdown",
   "metadata": {},
   "source": [
    "Сразу проверим roc_auc_score на тестовых данных"
   ]
  },
  {
   "cell_type": "code",
   "execution_count": 113,
   "metadata": {},
   "outputs": [
    {
     "name": "stdout",
     "output_type": "stream",
     "text": [
      "Estimators: 20\n",
      "Time elapsed:  0:00:44.696261\n",
      "0.6733003476784685\n",
      "Estimators: 20\n",
      "Time elapsed:  0:00:44.008201\n",
      "0.6897105393706824\n",
      "Estimators: 20\n",
      "Time elapsed:  0:00:44.238628\n",
      "0.6812092730714607\n",
      "Estimators: 20\n",
      "Time elapsed:  0:00:44.054323\n",
      "0.6836447516594225\n",
      "Estimators: 20\n",
      "Time elapsed:  0:00:45.277284\n",
      "0.6837961112152618\n",
      "Estimators: 30\n",
      "Time elapsed:  0:01:07.623122\n",
      "0.6821366070551803\n",
      "Estimators: 30\n",
      "Time elapsed:  0:01:05.817411\n",
      "0.6950518110250112\n",
      "Estimators: 30\n",
      "Time elapsed:  0:01:06.777655\n",
      "0.6885288024651814\n",
      "Estimators: 30\n",
      "Time elapsed:  0:01:08.094445\n",
      "0.689814165431073\n",
      "Estimators: 30\n",
      "Time elapsed:  0:01:07.518485\n",
      "0.6917984238422203\n"
     ]
    }
   ],
   "source": [
    "for i in (20, 30):   \n",
    "    for train_ind, test_ind in kf.split(df):\n",
    "        print('Estimators: {}'.format(i))\n",
    "        clf = GradientBoostingClassifier(n_estimators = i, random_state = 50)\n",
    "        start_time = datetime.datetime.now()\n",
    "        clf.fit(df.values[train_ind], y.values[train_ind])\n",
    "        print('Time elapsed: ', datetime.datetime.now() - start_time)\n",
    "        pred = clf.predict_proba(df.values[test_ind])\n",
    "        print(roc_auc_score(y.values[test_ind], pred[:, 1]))"
   ]
  },
  {
   "cell_type": "code",
   "execution_count": 114,
   "metadata": {},
   "outputs": [
    {
     "name": "stdout",
     "output_type": "stream",
     "text": [
      "Time elapsed:  0:02:32.132477\n",
      "0.49701741190431115\n",
      "Time elapsed:  0:02:28.983986\n",
      "0.5022588468013716\n",
      "Time elapsed:  0:02:31.068321\n",
      "0.49325684932667635\n",
      "Time elapsed:  0:02:27.201032\n",
      "0.5004212506453252\n",
      "Time elapsed:  0:02:27.096736\n",
      "0.6917984238422203\n"
     ]
    }
   ],
   "source": [
    "# lets try to use more than 30 trees with different depth\n",
    "for train_ind, test_ind in kf.split(df):\n",
    "    clf = GradientBoostingClassifier(n_estimators = 40, random_state = 50, max_depth = 5)\n",
    "    start_time = datetime.datetime.now()\n",
    "    clf.fit(df.values[train_ind], y.values[train_ind])\n",
    "    print('Time elapsed: ', datetime.datetime.now() - start_time)\n",
    "    print(roc_auc_score(y.values[test_ind], pred[:, 1]))"
   ]
  },
  {
   "cell_type": "code",
   "execution_count": 115,
   "metadata": {},
   "outputs": [
    {
     "name": "stdout",
     "output_type": "stream",
     "text": [
      "Time elapsed:  0:01:00.613085\n",
      "Time elapsed:  0:01:03.802698\n",
      "Time elapsed:  0:01:03.321469\n",
      "Time elapsed:  0:01:02.310811\n",
      "Time elapsed:  0:01:03.497425\n"
     ]
    }
   ],
   "source": [
    "# lets try to use more than 30 trees with different depth\n",
    "for train_ind, test_ind in kf.split(df):\n",
    "    clf = GradientBoostingClassifier(n_estimators = 40, random_state = 50, max_depth = 2)\n",
    "    start_time = datetime.datetime.now()\n",
    "    clf.fit(df.values[train_ind], y.values[train_ind])\n",
    "    print('Time elapsed: ', datetime.datetime.now() - start_time)"
   ]
  },
  {
   "cell_type": "markdown",
   "metadata": {},
   "source": [
    "### Для уменьшения времени, затрачиваемого на обучение модели, можно прибегать к следующим методам: <br>\n",
    "1) Уменьшение числа признаков. \"Выкинуть\" признаки из выборки <br>\n",
    "2) Уменьшить объем выборки. Вместо 110000+ примеров можно взять две трети от этого количества, предварительно перемешав их.\n",
    "\n",
    "\n",
    "#### Мы также видим, что при уменьшении размеров одного дерева до, например, 2, время при построении 40 деревьев практически совпадает с временем, затраченным на построение модели с 30 деревьями глубины 3"
   ]
  },
  {
   "cell_type": "markdown",
   "metadata": {},
   "source": [
    "# Логистическая регрессия"
   ]
  },
  {
   "cell_type": "code",
   "execution_count": 116,
   "metadata": {},
   "outputs": [],
   "source": [
    "from sklearn.linear_model import LogisticRegression\n",
    "from sklearn.preprocessing import StandardScaler"
   ]
  },
  {
   "cell_type": "code",
   "execution_count": 117,
   "metadata": {},
   "outputs": [],
   "source": [
    "scaler = StandardScaler()"
   ]
  },
  {
   "cell_type": "markdown",
   "metadata": {},
   "source": [
    "##### Отскалируем значения признаков"
   ]
  },
  {
   "cell_type": "code",
   "execution_count": 118,
   "metadata": {},
   "outputs": [],
   "source": [
    "X_scaled = scaler.fit_transform(df.values)\n",
    "y_scaled = scaler.transform(test_df.values)"
   ]
  },
  {
   "cell_type": "code",
   "execution_count": 119,
   "metadata": {},
   "outputs": [],
   "source": [
    "kf = KFold(n_splits = 5, shuffle = True, random_state = 50)"
   ]
  },
  {
   "cell_type": "code",
   "execution_count": 120,
   "metadata": {},
   "outputs": [
    {
     "name": "stdout",
     "output_type": "stream",
     "text": [
      "Time elapsed: 0:00:00.394182\n",
      "ROC_AUC_SCORE with C = 0.0001 0.7083801337581977\n",
      "Time elapsed: 0:00:00.419318\n",
      "ROC_AUC_SCORE with C = 0.0001 0.7129968933178444\n",
      "Time elapsed: 0:00:00.429418\n",
      "ROC_AUC_SCORE with C = 0.0001 0.7109604267716054\n",
      "Time elapsed: 0:00:00.429569\n",
      "ROC_AUC_SCORE with C = 0.0001 0.7131541711823542\n",
      "Time elapsed: 0:00:00.430288\n",
      "ROC_AUC_SCORE with C = 0.0001 0.7110365644569229\n"
     ]
    }
   ],
   "source": [
    "# for C in np.linspace(0.001, 50, 10):\n",
    "for train_ind, test_ind in kf.split(X_scaled):\n",
    "    clf = LogisticRegression(random_state = 20, C = 0.0001)\n",
    "    start_time = datetime.datetime.now()\n",
    "    clf.fit(X_scaled[train_ind], y.values[train_ind])\n",
    "    print('Time elapsed:', datetime.datetime.now() - start_time)\n",
    "    print('ROC_AUC_SCORE with C = 0.0001',\n",
    "          roc_auc_score(y.values[test_ind], clf.predict_proba(X_scaled[test_ind])[:, 1]))"
   ]
  },
  {
   "cell_type": "markdown",
   "metadata": {},
   "source": [
    "### Качество логистической регрессии чуть выше, чем у градиентного бустинга <br> \n",
    "### Скорость обучения модели логистической регрессии заметно выше, чем у градиентного бустинга <br>\n",
    "Причинами разницы в результатах roc-auc_score могут следующие: <br>\n",
    "Данные не разряжены, соответственно, модели, построенные на основе дереьев, должны показыавть \"приемлемый\" результат <br>\n",
    "В данных могут присутствовать выбросы, которые повлияли на ГБ, но которые не оказали воздействия на ЛР из-за предварительного масштабирования."
   ]
  },
  {
   "cell_type": "code",
   "execution_count": 121,
   "metadata": {},
   "outputs": [],
   "source": [
    "df_dropped = df.drop(['lobby_type',\n",
    "                        'r1_hero',\n",
    "                        'r2_hero',\n",
    "                        'r3_hero',\n",
    "                        'r4_hero',\n",
    "                        'r5_hero',\n",
    "                        'd1_hero',\n",
    "                        'd2_hero',\n",
    "                        'd3_hero',\n",
    "                        'd4_hero',\n",
    "                        'd5_hero'], axis = 1)\n",
    "test_df_dropped = test_df.drop(['lobby_type',\n",
    "                        'r1_hero',\n",
    "                        'r2_hero',\n",
    "                        'r3_hero',\n",
    "                        'r4_hero',\n",
    "                        'r5_hero',\n",
    "                        'd1_hero',\n",
    "                        'd2_hero',\n",
    "                        'd3_hero',\n",
    "                        'd4_hero',\n",
    "                        'd5_hero'], axis = 1)"
   ]
  },
  {
   "cell_type": "code",
   "execution_count": 122,
   "metadata": {},
   "outputs": [],
   "source": [
    "df_dropped\n",
    "X_scaled = scaler.fit_transform(df_dropped)\n",
    "y_scaled = scaler.transform(test_df_dropped)"
   ]
  },
  {
   "cell_type": "code",
   "execution_count": 150,
   "metadata": {},
   "outputs": [
    {
     "name": "stdout",
     "output_type": "stream",
     "text": [
      "Time elapsed: 0:00:00.903350\n",
      "0.715150385895172\n",
      "Time elapsed: 0:00:01.024810\n",
      "0.7177918434949545\n",
      "Time elapsed: 0:00:01.083111\n",
      "0.7168748241698273\n",
      "Time elapsed: 0:00:00.927034\n",
      "0.7163772709196502\n",
      "Time elapsed: 0:00:01.044895\n",
      "0.7164433904312993\n"
     ]
    }
   ],
   "source": [
    "for train_ind, test_ind in kf.split(df_dropped):\n",
    "    clf = LogisticRegression(random_state = 20, C = 0.01)\n",
    "    start_time = datetime.datetime.now()\n",
    "    clf.fit(X_scaled[train_ind], y.values[train_ind])\n",
    "    print('Time elapsed:', datetime.datetime.now() - start_time)\n",
    "    print(roc_auc_score(y.values[test_ind], clf.predict_proba(X_scaled[test_ind])[:, 1]))"
   ]
  },
  {
   "cell_type": "markdown",
   "metadata": {},
   "source": [
    "#### Значение roc_auc увеличилось на сотую. Причина тому- удаление \"неправильно\" закодированных категориальных признаков"
   ]
  },
  {
   "cell_type": "code",
   "execution_count": 152,
   "metadata": {},
   "outputs": [],
   "source": [
    "heroes = ['r1_hero', 'r2_hero', 'r3_hero', 'r4_hero', 'r5_hero',\n",
    "         'd1_hero', 'd2_hero', 'd3_hero', 'd4_hero', 'd5_hero']"
   ]
  },
  {
   "cell_type": "code",
   "execution_count": 160,
   "metadata": {},
   "outputs": [
    {
     "name": "stdout",
     "output_type": "stream",
     "text": [
      "112\n",
      "112\n",
      "112\n",
      "112\n",
      "112\n",
      "112\n",
      "112\n",
      "112\n",
      "112\n",
      "112\n"
     ]
    }
   ],
   "source": [
    "for i in heroes:\n",
    "    count = np.unique(df[i])\n",
    "    print(max(count))"
   ]
  },
  {
   "cell_type": "markdown",
   "metadata": {},
   "source": [
    "Мы видим, что максимальное число героев в игре - 112. "
   ]
  },
  {
   "cell_type": "code",
   "execution_count": 234,
   "metadata": {},
   "outputs": [],
   "source": [
    "X_pick = np.zeros((df.shape[0], 112))\n",
    "\n",
    "for i, index in enumerate(df.index):\n",
    "    for p in range(5):\n",
    "        X_pick[i, df.loc[index, 'r%d_hero' % (p + 1)] - 1] = 1\n",
    "        X_pick[i, df.loc[index, 'd%d_hero' % (p + 1)] - 1] = -1"
   ]
  },
  {
   "cell_type": "markdown",
   "metadata": {},
   "source": [
    "#### Конвертируем полученный ndarray в датафрейм, чтобы объединить его с уже имеющемся ДФ с помощью одного метода"
   ]
  },
  {
   "cell_type": "code",
   "execution_count": 235,
   "metadata": {},
   "outputs": [
    {
     "data": {
      "text/html": [
       "<div>\n",
       "<style scoped>\n",
       "    .dataframe tbody tr th:only-of-type {\n",
       "        vertical-align: middle;\n",
       "    }\n",
       "\n",
       "    .dataframe tbody tr th {\n",
       "        vertical-align: top;\n",
       "    }\n",
       "\n",
       "    .dataframe thead th {\n",
       "        text-align: right;\n",
       "    }\n",
       "</style>\n",
       "<table border=\"1\" class=\"dataframe\">\n",
       "  <thead>\n",
       "    <tr style=\"text-align: right;\">\n",
       "      <th></th>\n",
       "      <th>0</th>\n",
       "      <th>1</th>\n",
       "      <th>2</th>\n",
       "      <th>3</th>\n",
       "      <th>4</th>\n",
       "      <th>5</th>\n",
       "      <th>6</th>\n",
       "      <th>7</th>\n",
       "      <th>8</th>\n",
       "      <th>9</th>\n",
       "      <th>...</th>\n",
       "      <th>102</th>\n",
       "      <th>103</th>\n",
       "      <th>104</th>\n",
       "      <th>105</th>\n",
       "      <th>106</th>\n",
       "      <th>107</th>\n",
       "      <th>108</th>\n",
       "      <th>109</th>\n",
       "      <th>110</th>\n",
       "      <th>111</th>\n",
       "    </tr>\n",
       "  </thead>\n",
       "  <tbody>\n",
       "    <tr>\n",
       "      <th>0</th>\n",
       "      <td>0.0</td>\n",
       "      <td>0.0</td>\n",
       "      <td>0.0</td>\n",
       "      <td>-1.0</td>\n",
       "      <td>0.0</td>\n",
       "      <td>0.0</td>\n",
       "      <td>0.0</td>\n",
       "      <td>0.0</td>\n",
       "      <td>0.0</td>\n",
       "      <td>0.0</td>\n",
       "      <td>...</td>\n",
       "      <td>0.0</td>\n",
       "      <td>0.0</td>\n",
       "      <td>1.0</td>\n",
       "      <td>0.0</td>\n",
       "      <td>0.0</td>\n",
       "      <td>0.0</td>\n",
       "      <td>0.0</td>\n",
       "      <td>0.0</td>\n",
       "      <td>0.0</td>\n",
       "      <td>0.0</td>\n",
       "    </tr>\n",
       "    <tr>\n",
       "      <th>1</th>\n",
       "      <td>0.0</td>\n",
       "      <td>0.0</td>\n",
       "      <td>0.0</td>\n",
       "      <td>0.0</td>\n",
       "      <td>0.0</td>\n",
       "      <td>0.0</td>\n",
       "      <td>-1.0</td>\n",
       "      <td>0.0</td>\n",
       "      <td>0.0</td>\n",
       "      <td>0.0</td>\n",
       "      <td>...</td>\n",
       "      <td>0.0</td>\n",
       "      <td>0.0</td>\n",
       "      <td>0.0</td>\n",
       "      <td>0.0</td>\n",
       "      <td>0.0</td>\n",
       "      <td>0.0</td>\n",
       "      <td>0.0</td>\n",
       "      <td>0.0</td>\n",
       "      <td>0.0</td>\n",
       "      <td>0.0</td>\n",
       "    </tr>\n",
       "    <tr>\n",
       "      <th>2</th>\n",
       "      <td>0.0</td>\n",
       "      <td>0.0</td>\n",
       "      <td>0.0</td>\n",
       "      <td>1.0</td>\n",
       "      <td>0.0</td>\n",
       "      <td>0.0</td>\n",
       "      <td>0.0</td>\n",
       "      <td>0.0</td>\n",
       "      <td>0.0</td>\n",
       "      <td>0.0</td>\n",
       "      <td>...</td>\n",
       "      <td>0.0</td>\n",
       "      <td>0.0</td>\n",
       "      <td>0.0</td>\n",
       "      <td>0.0</td>\n",
       "      <td>0.0</td>\n",
       "      <td>0.0</td>\n",
       "      <td>0.0</td>\n",
       "      <td>0.0</td>\n",
       "      <td>0.0</td>\n",
       "      <td>0.0</td>\n",
       "    </tr>\n",
       "    <tr>\n",
       "      <th>3</th>\n",
       "      <td>0.0</td>\n",
       "      <td>0.0</td>\n",
       "      <td>0.0</td>\n",
       "      <td>0.0</td>\n",
       "      <td>0.0</td>\n",
       "      <td>0.0</td>\n",
       "      <td>0.0</td>\n",
       "      <td>0.0</td>\n",
       "      <td>0.0</td>\n",
       "      <td>0.0</td>\n",
       "      <td>...</td>\n",
       "      <td>0.0</td>\n",
       "      <td>0.0</td>\n",
       "      <td>0.0</td>\n",
       "      <td>0.0</td>\n",
       "      <td>0.0</td>\n",
       "      <td>0.0</td>\n",
       "      <td>0.0</td>\n",
       "      <td>0.0</td>\n",
       "      <td>0.0</td>\n",
       "      <td>0.0</td>\n",
       "    </tr>\n",
       "    <tr>\n",
       "      <th>4</th>\n",
       "      <td>0.0</td>\n",
       "      <td>0.0</td>\n",
       "      <td>0.0</td>\n",
       "      <td>0.0</td>\n",
       "      <td>0.0</td>\n",
       "      <td>0.0</td>\n",
       "      <td>0.0</td>\n",
       "      <td>-1.0</td>\n",
       "      <td>0.0</td>\n",
       "      <td>0.0</td>\n",
       "      <td>...</td>\n",
       "      <td>0.0</td>\n",
       "      <td>0.0</td>\n",
       "      <td>0.0</td>\n",
       "      <td>0.0</td>\n",
       "      <td>0.0</td>\n",
       "      <td>0.0</td>\n",
       "      <td>0.0</td>\n",
       "      <td>0.0</td>\n",
       "      <td>0.0</td>\n",
       "      <td>0.0</td>\n",
       "    </tr>\n",
       "    <tr>\n",
       "      <th>...</th>\n",
       "      <td>...</td>\n",
       "      <td>...</td>\n",
       "      <td>...</td>\n",
       "      <td>...</td>\n",
       "      <td>...</td>\n",
       "      <td>...</td>\n",
       "      <td>...</td>\n",
       "      <td>...</td>\n",
       "      <td>...</td>\n",
       "      <td>...</td>\n",
       "      <td>...</td>\n",
       "      <td>...</td>\n",
       "      <td>...</td>\n",
       "      <td>...</td>\n",
       "      <td>...</td>\n",
       "      <td>...</td>\n",
       "      <td>...</td>\n",
       "      <td>...</td>\n",
       "      <td>...</td>\n",
       "      <td>...</td>\n",
       "      <td>...</td>\n",
       "    </tr>\n",
       "    <tr>\n",
       "      <th>97225</th>\n",
       "      <td>1.0</td>\n",
       "      <td>0.0</td>\n",
       "      <td>-1.0</td>\n",
       "      <td>0.0</td>\n",
       "      <td>0.0</td>\n",
       "      <td>0.0</td>\n",
       "      <td>1.0</td>\n",
       "      <td>0.0</td>\n",
       "      <td>0.0</td>\n",
       "      <td>0.0</td>\n",
       "      <td>...</td>\n",
       "      <td>0.0</td>\n",
       "      <td>0.0</td>\n",
       "      <td>0.0</td>\n",
       "      <td>0.0</td>\n",
       "      <td>0.0</td>\n",
       "      <td>0.0</td>\n",
       "      <td>0.0</td>\n",
       "      <td>0.0</td>\n",
       "      <td>0.0</td>\n",
       "      <td>0.0</td>\n",
       "    </tr>\n",
       "    <tr>\n",
       "      <th>97226</th>\n",
       "      <td>0.0</td>\n",
       "      <td>0.0</td>\n",
       "      <td>0.0</td>\n",
       "      <td>1.0</td>\n",
       "      <td>-1.0</td>\n",
       "      <td>0.0</td>\n",
       "      <td>0.0</td>\n",
       "      <td>0.0</td>\n",
       "      <td>0.0</td>\n",
       "      <td>0.0</td>\n",
       "      <td>...</td>\n",
       "      <td>0.0</td>\n",
       "      <td>0.0</td>\n",
       "      <td>0.0</td>\n",
       "      <td>0.0</td>\n",
       "      <td>0.0</td>\n",
       "      <td>0.0</td>\n",
       "      <td>0.0</td>\n",
       "      <td>1.0</td>\n",
       "      <td>0.0</td>\n",
       "      <td>0.0</td>\n",
       "    </tr>\n",
       "    <tr>\n",
       "      <th>97227</th>\n",
       "      <td>0.0</td>\n",
       "      <td>0.0</td>\n",
       "      <td>0.0</td>\n",
       "      <td>0.0</td>\n",
       "      <td>0.0</td>\n",
       "      <td>0.0</td>\n",
       "      <td>0.0</td>\n",
       "      <td>0.0</td>\n",
       "      <td>0.0</td>\n",
       "      <td>0.0</td>\n",
       "      <td>...</td>\n",
       "      <td>0.0</td>\n",
       "      <td>0.0</td>\n",
       "      <td>0.0</td>\n",
       "      <td>0.0</td>\n",
       "      <td>0.0</td>\n",
       "      <td>0.0</td>\n",
       "      <td>0.0</td>\n",
       "      <td>0.0</td>\n",
       "      <td>0.0</td>\n",
       "      <td>1.0</td>\n",
       "    </tr>\n",
       "    <tr>\n",
       "      <th>97228</th>\n",
       "      <td>0.0</td>\n",
       "      <td>0.0</td>\n",
       "      <td>0.0</td>\n",
       "      <td>0.0</td>\n",
       "      <td>0.0</td>\n",
       "      <td>0.0</td>\n",
       "      <td>0.0</td>\n",
       "      <td>0.0</td>\n",
       "      <td>-1.0</td>\n",
       "      <td>0.0</td>\n",
       "      <td>...</td>\n",
       "      <td>0.0</td>\n",
       "      <td>0.0</td>\n",
       "      <td>0.0</td>\n",
       "      <td>-1.0</td>\n",
       "      <td>0.0</td>\n",
       "      <td>0.0</td>\n",
       "      <td>0.0</td>\n",
       "      <td>0.0</td>\n",
       "      <td>0.0</td>\n",
       "      <td>0.0</td>\n",
       "    </tr>\n",
       "    <tr>\n",
       "      <th>97229</th>\n",
       "      <td>0.0</td>\n",
       "      <td>0.0</td>\n",
       "      <td>0.0</td>\n",
       "      <td>0.0</td>\n",
       "      <td>0.0</td>\n",
       "      <td>0.0</td>\n",
       "      <td>0.0</td>\n",
       "      <td>0.0</td>\n",
       "      <td>0.0</td>\n",
       "      <td>0.0</td>\n",
       "      <td>...</td>\n",
       "      <td>0.0</td>\n",
       "      <td>0.0</td>\n",
       "      <td>0.0</td>\n",
       "      <td>-1.0</td>\n",
       "      <td>0.0</td>\n",
       "      <td>0.0</td>\n",
       "      <td>0.0</td>\n",
       "      <td>0.0</td>\n",
       "      <td>0.0</td>\n",
       "      <td>-1.0</td>\n",
       "    </tr>\n",
       "  </tbody>\n",
       "</table>\n",
       "<p>97230 rows × 112 columns</p>\n",
       "</div>"
      ],
      "text/plain": [
       "       0    1    2    3    4    5    6    7    8    9    ...  102  103  104  \\\n",
       "0      0.0  0.0  0.0 -1.0  0.0  0.0  0.0  0.0  0.0  0.0  ...  0.0  0.0  1.0   \n",
       "1      0.0  0.0  0.0  0.0  0.0  0.0 -1.0  0.0  0.0  0.0  ...  0.0  0.0  0.0   \n",
       "2      0.0  0.0  0.0  1.0  0.0  0.0  0.0  0.0  0.0  0.0  ...  0.0  0.0  0.0   \n",
       "3      0.0  0.0  0.0  0.0  0.0  0.0  0.0  0.0  0.0  0.0  ...  0.0  0.0  0.0   \n",
       "4      0.0  0.0  0.0  0.0  0.0  0.0  0.0 -1.0  0.0  0.0  ...  0.0  0.0  0.0   \n",
       "...    ...  ...  ...  ...  ...  ...  ...  ...  ...  ...  ...  ...  ...  ...   \n",
       "97225  1.0  0.0 -1.0  0.0  0.0  0.0  1.0  0.0  0.0  0.0  ...  0.0  0.0  0.0   \n",
       "97226  0.0  0.0  0.0  1.0 -1.0  0.0  0.0  0.0  0.0  0.0  ...  0.0  0.0  0.0   \n",
       "97227  0.0  0.0  0.0  0.0  0.0  0.0  0.0  0.0  0.0  0.0  ...  0.0  0.0  0.0   \n",
       "97228  0.0  0.0  0.0  0.0  0.0  0.0  0.0  0.0 -1.0  0.0  ...  0.0  0.0  0.0   \n",
       "97229  0.0  0.0  0.0  0.0  0.0  0.0  0.0  0.0  0.0  0.0  ...  0.0  0.0  0.0   \n",
       "\n",
       "       105  106  107  108  109  110  111  \n",
       "0      0.0  0.0  0.0  0.0  0.0  0.0  0.0  \n",
       "1      0.0  0.0  0.0  0.0  0.0  0.0  0.0  \n",
       "2      0.0  0.0  0.0  0.0  0.0  0.0  0.0  \n",
       "3      0.0  0.0  0.0  0.0  0.0  0.0  0.0  \n",
       "4      0.0  0.0  0.0  0.0  0.0  0.0  0.0  \n",
       "...    ...  ...  ...  ...  ...  ...  ...  \n",
       "97225  0.0  0.0  0.0  0.0  0.0  0.0  0.0  \n",
       "97226  0.0  0.0  0.0  0.0  1.0  0.0  0.0  \n",
       "97227  0.0  0.0  0.0  0.0  0.0  0.0  1.0  \n",
       "97228 -1.0  0.0  0.0  0.0  0.0  0.0  0.0  \n",
       "97229 -1.0  0.0  0.0  0.0  0.0  0.0 -1.0  \n",
       "\n",
       "[97230 rows x 112 columns]"
      ]
     },
     "execution_count": 235,
     "metadata": {},
     "output_type": "execute_result"
    }
   ],
   "source": [
    "heroes = pd.DataFrame(X_pick)\n",
    "heroes"
   ]
  },
  {
   "cell_type": "code",
   "execution_count": 236,
   "metadata": {},
   "outputs": [],
   "source": [
    "# Перед тем, как сделать join, нам следуюет снова отмасштабировать признаки\n",
    "df_scaled = scaler.fit_transform(df)\n",
    "test_df_scaled = scaler.transform(test_df)"
   ]
  },
  {
   "cell_type": "code",
   "execution_count": 237,
   "metadata": {},
   "outputs": [],
   "source": [
    "df_bag = np.hstack((df_scaled, heroes))"
   ]
  },
  {
   "cell_type": "code",
   "execution_count": 240,
   "metadata": {},
   "outputs": [
    {
     "name": "stdout",
     "output_type": "stream",
     "text": [
      "Time elapsed: 0:00:01.267588\n",
      "C = 0.001, ROC_AUC_SCORE:  0.7456773683505704\n",
      "Time elapsed: 0:00:01.313863\n",
      "C = 0.001, ROC_AUC_SCORE:  0.7456773683505704\n",
      "Time elapsed: 0:00:02.536107\n",
      "C = 0.01, ROC_AUC_SCORE:  0.7529953676257171\n"
     ]
    },
    {
     "name": "stderr",
     "output_type": "stream",
     "text": [
      "C:\\Users\\alexb\\anaconda3\\lib\\site-packages\\sklearn\\linear_model\\_logistic.py:762: ConvergenceWarning: lbfgs failed to converge (status=1):\n",
      "STOP: TOTAL NO. of ITERATIONS REACHED LIMIT.\n",
      "\n",
      "Increase the number of iterations (max_iter) or scale the data as shown in:\n",
      "    https://scikit-learn.org/stable/modules/preprocessing.html\n",
      "Please also refer to the documentation for alternative solver options:\n",
      "    https://scikit-learn.org/stable/modules/linear_model.html#logistic-regression\n",
      "  n_iter_i = _check_optimize_result(\n"
     ]
    },
    {
     "name": "stdout",
     "output_type": "stream",
     "text": [
      "Time elapsed: 0:00:02.962032\n",
      "C = 0.1, ROC_AUC_SCORE:  0.7538386417270018\n"
     ]
    },
    {
     "name": "stderr",
     "output_type": "stream",
     "text": [
      "C:\\Users\\alexb\\anaconda3\\lib\\site-packages\\sklearn\\linear_model\\_logistic.py:762: ConvergenceWarning: lbfgs failed to converge (status=1):\n",
      "STOP: TOTAL NO. of ITERATIONS REACHED LIMIT.\n",
      "\n",
      "Increase the number of iterations (max_iter) or scale the data as shown in:\n",
      "    https://scikit-learn.org/stable/modules/preprocessing.html\n",
      "Please also refer to the documentation for alternative solver options:\n",
      "    https://scikit-learn.org/stable/modules/linear_model.html#logistic-regression\n",
      "  n_iter_i = _check_optimize_result(\n"
     ]
    },
    {
     "name": "stdout",
     "output_type": "stream",
     "text": [
      "Time elapsed: 0:00:03.178527\n",
      "C = 1, ROC_AUC_SCORE:  0.7538960131522906\n"
     ]
    },
    {
     "name": "stderr",
     "output_type": "stream",
     "text": [
      "C:\\Users\\alexb\\anaconda3\\lib\\site-packages\\sklearn\\linear_model\\_logistic.py:762: ConvergenceWarning: lbfgs failed to converge (status=1):\n",
      "STOP: TOTAL NO. of ITERATIONS REACHED LIMIT.\n",
      "\n",
      "Increase the number of iterations (max_iter) or scale the data as shown in:\n",
      "    https://scikit-learn.org/stable/modules/preprocessing.html\n",
      "Please also refer to the documentation for alternative solver options:\n",
      "    https://scikit-learn.org/stable/modules/linear_model.html#logistic-regression\n",
      "  n_iter_i = _check_optimize_result(\n"
     ]
    },
    {
     "name": "stdout",
     "output_type": "stream",
     "text": [
      "Time elapsed: 0:00:03.099175\n",
      "C = 10, ROC_AUC_SCORE:  0.7539025526256701\n",
      "Time elapsed: 0:00:01.788811\n",
      "C = 0.001, ROC_AUC_SCORE:  0.7501776035930589\n",
      "Time elapsed: 0:00:01.372383\n",
      "C = 0.001, ROC_AUC_SCORE:  0.7501776035930589\n",
      "Time elapsed: 0:00:02.520621\n",
      "C = 0.01, ROC_AUC_SCORE:  0.7551361965733439\n"
     ]
    },
    {
     "name": "stderr",
     "output_type": "stream",
     "text": [
      "C:\\Users\\alexb\\anaconda3\\lib\\site-packages\\sklearn\\linear_model\\_logistic.py:762: ConvergenceWarning: lbfgs failed to converge (status=1):\n",
      "STOP: TOTAL NO. of ITERATIONS REACHED LIMIT.\n",
      "\n",
      "Increase the number of iterations (max_iter) or scale the data as shown in:\n",
      "    https://scikit-learn.org/stable/modules/preprocessing.html\n",
      "Please also refer to the documentation for alternative solver options:\n",
      "    https://scikit-learn.org/stable/modules/linear_model.html#logistic-regression\n",
      "  n_iter_i = _check_optimize_result(\n"
     ]
    },
    {
     "name": "stdout",
     "output_type": "stream",
     "text": [
      "Time elapsed: 0:00:03.254207\n",
      "C = 0.1, ROC_AUC_SCORE:  0.7549769170134325\n"
     ]
    },
    {
     "name": "stderr",
     "output_type": "stream",
     "text": [
      "C:\\Users\\alexb\\anaconda3\\lib\\site-packages\\sklearn\\linear_model\\_logistic.py:762: ConvergenceWarning: lbfgs failed to converge (status=1):\n",
      "STOP: TOTAL NO. of ITERATIONS REACHED LIMIT.\n",
      "\n",
      "Increase the number of iterations (max_iter) or scale the data as shown in:\n",
      "    https://scikit-learn.org/stable/modules/preprocessing.html\n",
      "Please also refer to the documentation for alternative solver options:\n",
      "    https://scikit-learn.org/stable/modules/linear_model.html#logistic-regression\n",
      "  n_iter_i = _check_optimize_result(\n"
     ]
    },
    {
     "name": "stdout",
     "output_type": "stream",
     "text": [
      "Time elapsed: 0:00:03.141863\n",
      "C = 1, ROC_AUC_SCORE:  0.7549070203980457\n"
     ]
    },
    {
     "name": "stderr",
     "output_type": "stream",
     "text": [
      "C:\\Users\\alexb\\anaconda3\\lib\\site-packages\\sklearn\\linear_model\\_logistic.py:762: ConvergenceWarning: lbfgs failed to converge (status=1):\n",
      "STOP: TOTAL NO. of ITERATIONS REACHED LIMIT.\n",
      "\n",
      "Increase the number of iterations (max_iter) or scale the data as shown in:\n",
      "    https://scikit-learn.org/stable/modules/preprocessing.html\n",
      "Please also refer to the documentation for alternative solver options:\n",
      "    https://scikit-learn.org/stable/modules/linear_model.html#logistic-regression\n",
      "  n_iter_i = _check_optimize_result(\n"
     ]
    },
    {
     "name": "stdout",
     "output_type": "stream",
     "text": [
      "Time elapsed: 0:00:03.232912\n",
      "C = 10, ROC_AUC_SCORE:  0.7548928822190244\n",
      "Time elapsed: 0:00:01.216452\n",
      "C = 0.001, ROC_AUC_SCORE:  0.7462924301509344\n",
      "Time elapsed: 0:00:01.271511\n",
      "C = 0.001, ROC_AUC_SCORE:  0.7462924301509344\n",
      "Time elapsed: 0:00:02.420117\n",
      "C = 0.01, ROC_AUC_SCORE:  0.7516746552881243\n"
     ]
    },
    {
     "name": "stderr",
     "output_type": "stream",
     "text": [
      "C:\\Users\\alexb\\anaconda3\\lib\\site-packages\\sklearn\\linear_model\\_logistic.py:762: ConvergenceWarning: lbfgs failed to converge (status=1):\n",
      "STOP: TOTAL NO. of ITERATIONS REACHED LIMIT.\n",
      "\n",
      "Increase the number of iterations (max_iter) or scale the data as shown in:\n",
      "    https://scikit-learn.org/stable/modules/preprocessing.html\n",
      "Please also refer to the documentation for alternative solver options:\n",
      "    https://scikit-learn.org/stable/modules/linear_model.html#logistic-regression\n",
      "  n_iter_i = _check_optimize_result(\n"
     ]
    },
    {
     "name": "stdout",
     "output_type": "stream",
     "text": [
      "Time elapsed: 0:00:03.191791\n",
      "C = 0.1, ROC_AUC_SCORE:  0.7518378595832953\n"
     ]
    },
    {
     "name": "stderr",
     "output_type": "stream",
     "text": [
      "C:\\Users\\alexb\\anaconda3\\lib\\site-packages\\sklearn\\linear_model\\_logistic.py:762: ConvergenceWarning: lbfgs failed to converge (status=1):\n",
      "STOP: TOTAL NO. of ITERATIONS REACHED LIMIT.\n",
      "\n",
      "Increase the number of iterations (max_iter) or scale the data as shown in:\n",
      "    https://scikit-learn.org/stable/modules/preprocessing.html\n",
      "Please also refer to the documentation for alternative solver options:\n",
      "    https://scikit-learn.org/stable/modules/linear_model.html#logistic-regression\n",
      "  n_iter_i = _check_optimize_result(\n"
     ]
    },
    {
     "name": "stdout",
     "output_type": "stream",
     "text": [
      "Time elapsed: 0:00:03.432879\n",
      "C = 1, ROC_AUC_SCORE:  0.7518096737947795\n"
     ]
    },
    {
     "name": "stderr",
     "output_type": "stream",
     "text": [
      "C:\\Users\\alexb\\anaconda3\\lib\\site-packages\\sklearn\\linear_model\\_logistic.py:762: ConvergenceWarning: lbfgs failed to converge (status=1):\n",
      "STOP: TOTAL NO. of ITERATIONS REACHED LIMIT.\n",
      "\n",
      "Increase the number of iterations (max_iter) or scale the data as shown in:\n",
      "    https://scikit-learn.org/stable/modules/preprocessing.html\n",
      "Please also refer to the documentation for alternative solver options:\n",
      "    https://scikit-learn.org/stable/modules/linear_model.html#logistic-regression\n",
      "  n_iter_i = _check_optimize_result(\n"
     ]
    },
    {
     "name": "stdout",
     "output_type": "stream",
     "text": [
      "Time elapsed: 0:00:03.456903\n",
      "C = 10, ROC_AUC_SCORE:  0.75180703634219\n",
      "Time elapsed: 0:00:01.466216\n",
      "C = 0.001, ROC_AUC_SCORE:  0.7444584308997113\n",
      "Time elapsed: 0:00:01.225626\n",
      "C = 0.001, ROC_AUC_SCORE:  0.7444584308997113\n",
      "Time elapsed: 0:00:02.954083\n",
      "C = 0.01, ROC_AUC_SCORE:  0.7479869774560787\n"
     ]
    },
    {
     "name": "stderr",
     "output_type": "stream",
     "text": [
      "C:\\Users\\alexb\\anaconda3\\lib\\site-packages\\sklearn\\linear_model\\_logistic.py:762: ConvergenceWarning: lbfgs failed to converge (status=1):\n",
      "STOP: TOTAL NO. of ITERATIONS REACHED LIMIT.\n",
      "\n",
      "Increase the number of iterations (max_iter) or scale the data as shown in:\n",
      "    https://scikit-learn.org/stable/modules/preprocessing.html\n",
      "Please also refer to the documentation for alternative solver options:\n",
      "    https://scikit-learn.org/stable/modules/linear_model.html#logistic-regression\n",
      "  n_iter_i = _check_optimize_result(\n"
     ]
    },
    {
     "name": "stdout",
     "output_type": "stream",
     "text": [
      "Time elapsed: 0:00:03.169193\n",
      "C = 0.1, ROC_AUC_SCORE:  0.7477606636927715\n"
     ]
    },
    {
     "name": "stderr",
     "output_type": "stream",
     "text": [
      "C:\\Users\\alexb\\anaconda3\\lib\\site-packages\\sklearn\\linear_model\\_logistic.py:762: ConvergenceWarning: lbfgs failed to converge (status=1):\n",
      "STOP: TOTAL NO. of ITERATIONS REACHED LIMIT.\n",
      "\n",
      "Increase the number of iterations (max_iter) or scale the data as shown in:\n",
      "    https://scikit-learn.org/stable/modules/preprocessing.html\n",
      "Please also refer to the documentation for alternative solver options:\n",
      "    https://scikit-learn.org/stable/modules/linear_model.html#logistic-regression\n",
      "  n_iter_i = _check_optimize_result(\n"
     ]
    },
    {
     "name": "stdout",
     "output_type": "stream",
     "text": [
      "Time elapsed: 0:00:03.289827\n",
      "C = 1, ROC_AUC_SCORE:  0.7476834152615626\n"
     ]
    },
    {
     "name": "stderr",
     "output_type": "stream",
     "text": [
      "C:\\Users\\alexb\\anaconda3\\lib\\site-packages\\sklearn\\linear_model\\_logistic.py:762: ConvergenceWarning: lbfgs failed to converge (status=1):\n",
      "STOP: TOTAL NO. of ITERATIONS REACHED LIMIT.\n",
      "\n",
      "Increase the number of iterations (max_iter) or scale the data as shown in:\n",
      "    https://scikit-learn.org/stable/modules/preprocessing.html\n",
      "Please also refer to the documentation for alternative solver options:\n",
      "    https://scikit-learn.org/stable/modules/linear_model.html#logistic-regression\n",
      "  n_iter_i = _check_optimize_result(\n"
     ]
    },
    {
     "name": "stdout",
     "output_type": "stream",
     "text": [
      "Time elapsed: 0:00:03.237522\n",
      "C = 10, ROC_AUC_SCORE:  0.7476763955644832\n",
      "Time elapsed: 0:00:01.323927\n",
      "C = 0.001, ROC_AUC_SCORE:  0.744668730405345\n",
      "Time elapsed: 0:00:01.334097\n",
      "C = 0.001, ROC_AUC_SCORE:  0.744668730405345\n",
      "Time elapsed: 0:00:02.428973\n",
      "C = 0.01, ROC_AUC_SCORE:  0.750352102052218\n"
     ]
    },
    {
     "name": "stderr",
     "output_type": "stream",
     "text": [
      "C:\\Users\\alexb\\anaconda3\\lib\\site-packages\\sklearn\\linear_model\\_logistic.py:762: ConvergenceWarning: lbfgs failed to converge (status=1):\n",
      "STOP: TOTAL NO. of ITERATIONS REACHED LIMIT.\n",
      "\n",
      "Increase the number of iterations (max_iter) or scale the data as shown in:\n",
      "    https://scikit-learn.org/stable/modules/preprocessing.html\n",
      "Please also refer to the documentation for alternative solver options:\n",
      "    https://scikit-learn.org/stable/modules/linear_model.html#logistic-regression\n",
      "  n_iter_i = _check_optimize_result(\n"
     ]
    },
    {
     "name": "stdout",
     "output_type": "stream",
     "text": [
      "Time elapsed: 0:00:03.115058\n",
      "C = 0.1, ROC_AUC_SCORE:  0.7506287748526672\n"
     ]
    },
    {
     "name": "stderr",
     "output_type": "stream",
     "text": [
      "C:\\Users\\alexb\\anaconda3\\lib\\site-packages\\sklearn\\linear_model\\_logistic.py:762: ConvergenceWarning: lbfgs failed to converge (status=1):\n",
      "STOP: TOTAL NO. of ITERATIONS REACHED LIMIT.\n",
      "\n",
      "Increase the number of iterations (max_iter) or scale the data as shown in:\n",
      "    https://scikit-learn.org/stable/modules/preprocessing.html\n",
      "Please also refer to the documentation for alternative solver options:\n",
      "    https://scikit-learn.org/stable/modules/linear_model.html#logistic-regression\n",
      "  n_iter_i = _check_optimize_result(\n"
     ]
    },
    {
     "name": "stdout",
     "output_type": "stream",
     "text": [
      "Time elapsed: 0:00:03.232518\n",
      "C = 1, ROC_AUC_SCORE:  0.7506277790170399\n",
      "Time elapsed: 0:00:03.140675\n",
      "C = 10, ROC_AUC_SCORE:  0.7506220900411691\n"
     ]
    },
    {
     "name": "stderr",
     "output_type": "stream",
     "text": [
      "C:\\Users\\alexb\\anaconda3\\lib\\site-packages\\sklearn\\linear_model\\_logistic.py:762: ConvergenceWarning: lbfgs failed to converge (status=1):\n",
      "STOP: TOTAL NO. of ITERATIONS REACHED LIMIT.\n",
      "\n",
      "Increase the number of iterations (max_iter) or scale the data as shown in:\n",
      "    https://scikit-learn.org/stable/modules/preprocessing.html\n",
      "Please also refer to the documentation for alternative solver options:\n",
      "    https://scikit-learn.org/stable/modules/linear_model.html#logistic-regression\n",
      "  n_iter_i = _check_optimize_result(\n"
     ]
    }
   ],
   "source": [
    "for train_ind, test_ind in kf.split(df_bag):\n",
    "    for i in [0.001, 0.01, 0.1, 1, 10]:\n",
    "        clf = LogisticRegression(random_state = 20, C = i)\n",
    "        start_time = datetime.datetime.now()\n",
    "        clf.fit(df_bag[train_ind], y.values[train_ind])\n",
    "        print('Time elapsed:', datetime.datetime.now() - start_time)\n",
    "        print('C = {}, ROC_AUC_SCORE: '.format(i), \n",
    "              roc_auc_score(y.values[test_ind], clf.predict_proba(df_bag[test_ind])[:, 1]))"
   ]
  },
  {
   "cell_type": "markdown",
   "metadata": {},
   "source": [
    "### Мы можем наблюдать незначительное увеличение времени обучения модели, однако, вместе с этим увеличилось и качество предсказаний- практически на 0,05. Это можно объяснить тем, что наличие или отсутствие каждого индивидуального героя является важным признаком, нежели просто обозначение наличия такового в выборке. В зависимости от пикнутого героя той или иной командой, алгоритм способен более качествено предположить победителя в матче."
   ]
  },
  {
   "cell_type": "code",
   "execution_count": 246,
   "metadata": {},
   "outputs": [
    {
     "data": {
      "text/html": [
       "<div>\n",
       "<style scoped>\n",
       "    .dataframe tbody tr th:only-of-type {\n",
       "        vertical-align: middle;\n",
       "    }\n",
       "\n",
       "    .dataframe tbody tr th {\n",
       "        vertical-align: top;\n",
       "    }\n",
       "\n",
       "    .dataframe thead th {\n",
       "        text-align: right;\n",
       "    }\n",
       "</style>\n",
       "<table border=\"1\" class=\"dataframe\">\n",
       "  <thead>\n",
       "    <tr style=\"text-align: right;\">\n",
       "      <th></th>\n",
       "      <th>start_time</th>\n",
       "      <th>lobby_type</th>\n",
       "      <th>r1_hero</th>\n",
       "      <th>r1_level</th>\n",
       "      <th>r1_xp</th>\n",
       "      <th>r1_gold</th>\n",
       "      <th>r1_lh</th>\n",
       "      <th>r1_kills</th>\n",
       "      <th>r1_deaths</th>\n",
       "      <th>r1_items</th>\n",
       "      <th>...</th>\n",
       "      <th>radiant_ward_sentry_count</th>\n",
       "      <th>radiant_first_ward_time</th>\n",
       "      <th>dire_bottle_time</th>\n",
       "      <th>dire_courier_time</th>\n",
       "      <th>dire_flying_courier_time</th>\n",
       "      <th>dire_tpscroll_count</th>\n",
       "      <th>dire_boots_count</th>\n",
       "      <th>dire_ward_observer_count</th>\n",
       "      <th>dire_ward_sentry_count</th>\n",
       "      <th>dire_first_ward_time</th>\n",
       "    </tr>\n",
       "    <tr>\n",
       "      <th>match_id</th>\n",
       "      <th></th>\n",
       "      <th></th>\n",
       "      <th></th>\n",
       "      <th></th>\n",
       "      <th></th>\n",
       "      <th></th>\n",
       "      <th></th>\n",
       "      <th></th>\n",
       "      <th></th>\n",
       "      <th></th>\n",
       "      <th></th>\n",
       "      <th></th>\n",
       "      <th></th>\n",
       "      <th></th>\n",
       "      <th></th>\n",
       "      <th></th>\n",
       "      <th></th>\n",
       "      <th></th>\n",
       "      <th></th>\n",
       "      <th></th>\n",
       "      <th></th>\n",
       "    </tr>\n",
       "  </thead>\n",
       "  <tbody>\n",
       "    <tr>\n",
       "      <th>6</th>\n",
       "      <td>1430287923</td>\n",
       "      <td>0</td>\n",
       "      <td>93</td>\n",
       "      <td>4</td>\n",
       "      <td>1103</td>\n",
       "      <td>1089</td>\n",
       "      <td>8</td>\n",
       "      <td>0</td>\n",
       "      <td>1</td>\n",
       "      <td>9</td>\n",
       "      <td>...</td>\n",
       "      <td>0</td>\n",
       "      <td>12.0</td>\n",
       "      <td>247.0</td>\n",
       "      <td>-86.0</td>\n",
       "      <td>272.0</td>\n",
       "      <td>3</td>\n",
       "      <td>4</td>\n",
       "      <td>2</td>\n",
       "      <td>0</td>\n",
       "      <td>118.0</td>\n",
       "    </tr>\n",
       "    <tr>\n",
       "      <th>7</th>\n",
       "      <td>1430293357</td>\n",
       "      <td>1</td>\n",
       "      <td>20</td>\n",
       "      <td>2</td>\n",
       "      <td>556</td>\n",
       "      <td>570</td>\n",
       "      <td>1</td>\n",
       "      <td>0</td>\n",
       "      <td>0</td>\n",
       "      <td>9</td>\n",
       "      <td>...</td>\n",
       "      <td>2</td>\n",
       "      <td>-29.0</td>\n",
       "      <td>168.0</td>\n",
       "      <td>-54.0</td>\n",
       "      <td>NaN</td>\n",
       "      <td>3</td>\n",
       "      <td>2</td>\n",
       "      <td>2</td>\n",
       "      <td>1</td>\n",
       "      <td>16.0</td>\n",
       "    </tr>\n",
       "    <tr>\n",
       "      <th>10</th>\n",
       "      <td>1430301774</td>\n",
       "      <td>1</td>\n",
       "      <td>112</td>\n",
       "      <td>2</td>\n",
       "      <td>751</td>\n",
       "      <td>808</td>\n",
       "      <td>1</td>\n",
       "      <td>0</td>\n",
       "      <td>0</td>\n",
       "      <td>13</td>\n",
       "      <td>...</td>\n",
       "      <td>1</td>\n",
       "      <td>-22.0</td>\n",
       "      <td>46.0</td>\n",
       "      <td>-87.0</td>\n",
       "      <td>186.0</td>\n",
       "      <td>1</td>\n",
       "      <td>3</td>\n",
       "      <td>3</td>\n",
       "      <td>0</td>\n",
       "      <td>-34.0</td>\n",
       "    </tr>\n",
       "    <tr>\n",
       "      <th>13</th>\n",
       "      <td>1430323933</td>\n",
       "      <td>1</td>\n",
       "      <td>27</td>\n",
       "      <td>3</td>\n",
       "      <td>708</td>\n",
       "      <td>903</td>\n",
       "      <td>1</td>\n",
       "      <td>1</td>\n",
       "      <td>1</td>\n",
       "      <td>11</td>\n",
       "      <td>...</td>\n",
       "      <td>2</td>\n",
       "      <td>-49.0</td>\n",
       "      <td>30.0</td>\n",
       "      <td>-89.0</td>\n",
       "      <td>210.0</td>\n",
       "      <td>3</td>\n",
       "      <td>4</td>\n",
       "      <td>2</td>\n",
       "      <td>1</td>\n",
       "      <td>-26.0</td>\n",
       "    </tr>\n",
       "    <tr>\n",
       "      <th>16</th>\n",
       "      <td>1430331112</td>\n",
       "      <td>1</td>\n",
       "      <td>39</td>\n",
       "      <td>4</td>\n",
       "      <td>1259</td>\n",
       "      <td>661</td>\n",
       "      <td>4</td>\n",
       "      <td>0</td>\n",
       "      <td>0</td>\n",
       "      <td>9</td>\n",
       "      <td>...</td>\n",
       "      <td>0</td>\n",
       "      <td>36.0</td>\n",
       "      <td>180.0</td>\n",
       "      <td>-86.0</td>\n",
       "      <td>180.0</td>\n",
       "      <td>1</td>\n",
       "      <td>3</td>\n",
       "      <td>2</td>\n",
       "      <td>1</td>\n",
       "      <td>-33.0</td>\n",
       "    </tr>\n",
       "    <tr>\n",
       "      <th>...</th>\n",
       "      <td>...</td>\n",
       "      <td>...</td>\n",
       "      <td>...</td>\n",
       "      <td>...</td>\n",
       "      <td>...</td>\n",
       "      <td>...</td>\n",
       "      <td>...</td>\n",
       "      <td>...</td>\n",
       "      <td>...</td>\n",
       "      <td>...</td>\n",
       "      <td>...</td>\n",
       "      <td>...</td>\n",
       "      <td>...</td>\n",
       "      <td>...</td>\n",
       "      <td>...</td>\n",
       "      <td>...</td>\n",
       "      <td>...</td>\n",
       "      <td>...</td>\n",
       "      <td>...</td>\n",
       "      <td>...</td>\n",
       "      <td>...</td>\n",
       "    </tr>\n",
       "    <tr>\n",
       "      <th>114369</th>\n",
       "      <td>1450212780</td>\n",
       "      <td>7</td>\n",
       "      <td>11</td>\n",
       "      <td>5</td>\n",
       "      <td>2054</td>\n",
       "      <td>1941</td>\n",
       "      <td>27</td>\n",
       "      <td>0</td>\n",
       "      <td>1</td>\n",
       "      <td>8</td>\n",
       "      <td>...</td>\n",
       "      <td>1</td>\n",
       "      <td>8.0</td>\n",
       "      <td>253.0</td>\n",
       "      <td>-87.0</td>\n",
       "      <td>NaN</td>\n",
       "      <td>4</td>\n",
       "      <td>3</td>\n",
       "      <td>2</td>\n",
       "      <td>1</td>\n",
       "      <td>-33.0</td>\n",
       "    </tr>\n",
       "    <tr>\n",
       "      <th>114377</th>\n",
       "      <td>1450222875</td>\n",
       "      <td>1</td>\n",
       "      <td>3</td>\n",
       "      <td>3</td>\n",
       "      <td>748</td>\n",
       "      <td>605</td>\n",
       "      <td>1</td>\n",
       "      <td>0</td>\n",
       "      <td>0</td>\n",
       "      <td>12</td>\n",
       "      <td>...</td>\n",
       "      <td>1</td>\n",
       "      <td>-1.0</td>\n",
       "      <td>133.0</td>\n",
       "      <td>-85.0</td>\n",
       "      <td>184.0</td>\n",
       "      <td>2</td>\n",
       "      <td>3</td>\n",
       "      <td>4</td>\n",
       "      <td>1</td>\n",
       "      <td>-18.0</td>\n",
       "    </tr>\n",
       "    <tr>\n",
       "      <th>114378</th>\n",
       "      <td>1450223593</td>\n",
       "      <td>1</td>\n",
       "      <td>85</td>\n",
       "      <td>2</td>\n",
       "      <td>575</td>\n",
       "      <td>499</td>\n",
       "      <td>0</td>\n",
       "      <td>0</td>\n",
       "      <td>0</td>\n",
       "      <td>8</td>\n",
       "      <td>...</td>\n",
       "      <td>0</td>\n",
       "      <td>20.0</td>\n",
       "      <td>133.0</td>\n",
       "      <td>-88.0</td>\n",
       "      <td>239.0</td>\n",
       "      <td>4</td>\n",
       "      <td>4</td>\n",
       "      <td>4</td>\n",
       "      <td>0</td>\n",
       "      <td>-36.0</td>\n",
       "    </tr>\n",
       "    <tr>\n",
       "      <th>114393</th>\n",
       "      <td>1450244771</td>\n",
       "      <td>0</td>\n",
       "      <td>7</td>\n",
       "      <td>4</td>\n",
       "      <td>1844</td>\n",
       "      <td>1176</td>\n",
       "      <td>8</td>\n",
       "      <td>1</td>\n",
       "      <td>2</td>\n",
       "      <td>8</td>\n",
       "      <td>...</td>\n",
       "      <td>0</td>\n",
       "      <td>-28.0</td>\n",
       "      <td>NaN</td>\n",
       "      <td>-83.0</td>\n",
       "      <td>NaN</td>\n",
       "      <td>1</td>\n",
       "      <td>4</td>\n",
       "      <td>1</td>\n",
       "      <td>0</td>\n",
       "      <td>NaN</td>\n",
       "    </tr>\n",
       "    <tr>\n",
       "      <th>114398</th>\n",
       "      <td>1450255429</td>\n",
       "      <td>1</td>\n",
       "      <td>8</td>\n",
       "      <td>4</td>\n",
       "      <td>1215</td>\n",
       "      <td>1305</td>\n",
       "      <td>13</td>\n",
       "      <td>0</td>\n",
       "      <td>0</td>\n",
       "      <td>10</td>\n",
       "      <td>...</td>\n",
       "      <td>2</td>\n",
       "      <td>38.0</td>\n",
       "      <td>124.0</td>\n",
       "      <td>-82.0</td>\n",
       "      <td>249.0</td>\n",
       "      <td>4</td>\n",
       "      <td>2</td>\n",
       "      <td>2</td>\n",
       "      <td>0</td>\n",
       "      <td>27.0</td>\n",
       "    </tr>\n",
       "  </tbody>\n",
       "</table>\n",
       "<p>17177 rows × 102 columns</p>\n",
       "</div>"
      ],
      "text/plain": [
       "          start_time  lobby_type  r1_hero  r1_level  r1_xp  r1_gold  r1_lh  \\\n",
       "match_id                                                                     \n",
       "6         1430287923           0       93         4   1103     1089      8   \n",
       "7         1430293357           1       20         2    556      570      1   \n",
       "10        1430301774           1      112         2    751      808      1   \n",
       "13        1430323933           1       27         3    708      903      1   \n",
       "16        1430331112           1       39         4   1259      661      4   \n",
       "...              ...         ...      ...       ...    ...      ...    ...   \n",
       "114369    1450212780           7       11         5   2054     1941     27   \n",
       "114377    1450222875           1        3         3    748      605      1   \n",
       "114378    1450223593           1       85         2    575      499      0   \n",
       "114393    1450244771           0        7         4   1844     1176      8   \n",
       "114398    1450255429           1        8         4   1215     1305     13   \n",
       "\n",
       "          r1_kills  r1_deaths  r1_items  ...  radiant_ward_sentry_count  \\\n",
       "match_id                                 ...                              \n",
       "6                0          1         9  ...                          0   \n",
       "7                0          0         9  ...                          2   \n",
       "10               0          0        13  ...                          1   \n",
       "13               1          1        11  ...                          2   \n",
       "16               0          0         9  ...                          0   \n",
       "...            ...        ...       ...  ...                        ...   \n",
       "114369           0          1         8  ...                          1   \n",
       "114377           0          0        12  ...                          1   \n",
       "114378           0          0         8  ...                          0   \n",
       "114393           1          2         8  ...                          0   \n",
       "114398           0          0        10  ...                          2   \n",
       "\n",
       "          radiant_first_ward_time  dire_bottle_time  dire_courier_time  \\\n",
       "match_id                                                                 \n",
       "6                            12.0             247.0              -86.0   \n",
       "7                           -29.0             168.0              -54.0   \n",
       "10                          -22.0              46.0              -87.0   \n",
       "13                          -49.0              30.0              -89.0   \n",
       "16                           36.0             180.0              -86.0   \n",
       "...                           ...               ...                ...   \n",
       "114369                        8.0             253.0              -87.0   \n",
       "114377                       -1.0             133.0              -85.0   \n",
       "114378                       20.0             133.0              -88.0   \n",
       "114393                      -28.0               NaN              -83.0   \n",
       "114398                       38.0             124.0              -82.0   \n",
       "\n",
       "          dire_flying_courier_time  dire_tpscroll_count  dire_boots_count  \\\n",
       "match_id                                                                    \n",
       "6                            272.0                    3                 4   \n",
       "7                              NaN                    3                 2   \n",
       "10                           186.0                    1                 3   \n",
       "13                           210.0                    3                 4   \n",
       "16                           180.0                    1                 3   \n",
       "...                            ...                  ...               ...   \n",
       "114369                         NaN                    4                 3   \n",
       "114377                       184.0                    2                 3   \n",
       "114378                       239.0                    4                 4   \n",
       "114393                         NaN                    1                 4   \n",
       "114398                       249.0                    4                 2   \n",
       "\n",
       "          dire_ward_observer_count  dire_ward_sentry_count  \\\n",
       "match_id                                                     \n",
       "6                                2                       0   \n",
       "7                                2                       1   \n",
       "10                               3                       0   \n",
       "13                               2                       1   \n",
       "16                               2                       1   \n",
       "...                            ...                     ...   \n",
       "114369                           2                       1   \n",
       "114377                           4                       1   \n",
       "114378                           4                       0   \n",
       "114393                           1                       0   \n",
       "114398                           2                       0   \n",
       "\n",
       "          dire_first_ward_time  \n",
       "match_id                        \n",
       "6                        118.0  \n",
       "7                         16.0  \n",
       "10                       -34.0  \n",
       "13                       -26.0  \n",
       "16                       -33.0  \n",
       "...                        ...  \n",
       "114369                   -33.0  \n",
       "114377                   -18.0  \n",
       "114378                   -36.0  \n",
       "114393                     NaN  \n",
       "114398                    27.0  \n",
       "\n",
       "[17177 rows x 102 columns]"
      ]
     },
     "execution_count": 246,
     "metadata": {},
     "output_type": "execute_result"
    }
   ],
   "source": [
    "test_df = pd.read_csv('d2_features_test.csv', index_col = 'match_id')\n",
    "test_df"
   ]
  },
  {
   "cell_type": "code",
   "execution_count": 293,
   "metadata": {},
   "outputs": [],
   "source": [
    "df = pd.read_csv('d2_features.csv', header=0)\n",
    "y = df.radiant_win\n",
    "df.drop(['duration',\n",
    "        'radiant_win',\n",
    "        'tower_status_radiant',\n",
    "        'tower_status_dire',\n",
    "        'barracks_status_radiant',\n",
    "        'barracks_status_dire',\n",
    "        'match_id'], axis = 1, inplace = True)"
   ]
  },
  {
   "cell_type": "code",
   "execution_count": 296,
   "metadata": {},
   "outputs": [],
   "source": [
    "df.fillna(0, inplace = True)"
   ]
  },
  {
   "cell_type": "code",
   "execution_count": 312,
   "metadata": {},
   "outputs": [
    {
     "data": {
      "text/plain": [
       "LogisticRegression(C=0.1, random_state=20)"
      ]
     },
     "execution_count": 312,
     "metadata": {},
     "output_type": "execute_result"
    }
   ],
   "source": [
    "df_scaled = scaler.fit_transform(df)\n",
    "test_df = test_df.fillna(0)\n",
    "test_df_scaled = scaler.transform(test_df)\n",
    "clf = LogisticRegression(random_state = 20, C = 0.1)\n",
    "clf.fit(df_scaled, y.values)"
   ]
  },
  {
   "cell_type": "code",
   "execution_count": 320,
   "metadata": {},
   "outputs": [
    {
     "data": {
      "text/plain": [
       "array([[0.46780127, 0.53219873],\n",
       "       [0.34719846, 0.65280154],\n",
       "       [0.66017913, 0.33982087],\n",
       "       [0.12306621, 0.87693379],\n",
       "       [0.76226289, 0.23773711],\n",
       "       [0.5639391 , 0.4360609 ],\n",
       "       [0.43367186, 0.56632814],\n",
       "       [0.31846126, 0.68153874],\n",
       "       [0.69533081, 0.30466919],\n",
       "       [0.53994413, 0.46005587]])"
      ]
     },
     "execution_count": 320,
     "metadata": {},
     "output_type": "execute_result"
    }
   ],
   "source": [
    "pred = clf.predict_proba(test_df_scaled)\n",
    "pred[:10]"
   ]
  },
  {
   "cell_type": "code",
   "execution_count": 347,
   "metadata": {},
   "outputs": [],
   "source": [
    "res = pd.DataFrame(pred[:, 1], index = test_df.index, columns = ['radiant_win'])\n",
    "res.to_csv('out.csv')"
   ]
  },
  {
   "cell_type": "code",
   "execution_count": 352,
   "metadata": {},
   "outputs": [
    {
     "name": "stdout",
     "output_type": "stream",
     "text": [
      "min = 0.007259504763141111 max = 0.9927404952368589\n"
     ]
    }
   ],
   "source": [
    "print('min =', pred.min(), 'max =', pred.max())"
   ]
  }
 ],
 "metadata": {
  "kernelspec": {
   "display_name": "Python 3",
   "language": "python",
   "name": "python3"
  },
  "language_info": {
   "codemirror_mode": {
    "name": "ipython",
    "version": 3
   },
   "file_extension": ".py",
   "mimetype": "text/x-python",
   "name": "python",
   "nbconvert_exporter": "python",
   "pygments_lexer": "ipython3",
   "version": "3.8.3"
  }
 },
 "nbformat": 4,
 "nbformat_minor": 4
}
